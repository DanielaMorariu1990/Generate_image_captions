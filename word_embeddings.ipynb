{
  "nbformat": 4,
  "nbformat_minor": 0,
  "metadata": {
    "colab": {
      "name": "word_embeddings.ipynb",
      "provenance": [],
      "mount_file_id": "1qBgvxvYxd-wD4s4kJfZAZj8WXx_Q6l1g",
      "authorship_tag": "ABX9TyMb6Zn7UgE4mQ8An6Lnwn4h",
      "include_colab_link": true
    },
    "kernelspec": {
      "name": "python3",
      "display_name": "Python 3"
    }
  },
  "cells": [
    {
      "cell_type": "markdown",
      "metadata": {
        "id": "view-in-github",
        "colab_type": "text"
      },
      "source": [
        "<a href=\"https://colab.research.google.com/github/DanielaMorariu1990/Generate_image_captions/blob/main/word_embeddings.ipynb\" target=\"_parent\"><img src=\"https://colab.research.google.com/assets/colab-badge.svg\" alt=\"Open In Colab\"/></a>"
      ]
    },
    {
      "cell_type": "markdown",
      "metadata": {
        "id": "KfMNUyWRkTEo"
      },
      "source": [
        "# Word embeddings using Word2Vec model"
      ]
    },
    {
      "cell_type": "code",
      "metadata": {
        "id": "q16zdh8CPLmD"
      },
      "source": [
        "from gensim.models import Word2Vec\r\n",
        "import pickle\r\n",
        "import numpy as np\r\n",
        "import pickle\r\n",
        "\r\n"
      ],
      "execution_count": 28,
      "outputs": []
    },
    {
      "cell_type": "markdown",
      "metadata": {
        "id": "4oCUgepXjUVR"
      },
      "source": [
        "## Split train descriptions by lines \r\n",
        "Create a word list for each sentance"
      ]
    },
    {
      "cell_type": "code",
      "metadata": {
        "id": "8l4Gd7h9PQWa"
      },
      "source": [
        "def to_lines(descriptions):\r\n",
        "    all_desc = list()\r\n",
        "    for key in descriptions.keys():\r\n",
        "        [all_desc.append(d) for d in descriptions[key]]\r\n",
        "    return all_desc"
      ],
      "execution_count": 4,
      "outputs": []
    },
    {
      "cell_type": "code",
      "metadata": {
        "id": "kPq7Bn0mPZHm"
      },
      "source": [
        "def create_list_sentance(description):\r\n",
        "    lines = to_lines(description)\r\n",
        "    line_list = []\r\n",
        "    for line in lines:\r\n",
        "        line = line.split()\r\n",
        "        line_list.append(line)\r\n",
        "    return line_list\r\n",
        "        "
      ],
      "execution_count": 5,
      "outputs": []
    },
    {
      "cell_type": "markdown",
      "metadata": {
        "id": "7X0rvt_3jzZs"
      },
      "source": [
        "### Read in the data\r\n",
        "\r\n",
        "Read training descriptions\r\n",
        "\r\n",
        "Read tokenizer"
      ]
    },
    {
      "cell_type": "code",
      "metadata": {
        "id": "2qL1WoioPyVf"
      },
      "source": [
        "with open('/content/drive/MyDrive/Colab Notebooks/Image_caption/train_descriptions.pkl', 'rb') as f:\r\n",
        "        desc = pickle.load(f)"
      ],
      "execution_count": 6,
      "outputs": []
    },
    {
      "cell_type": "code",
      "metadata": {
        "id": "Gdw8nDmjezCB"
      },
      "source": [
        "with open('/content/drive/MyDrive/Colab Notebooks/Image_caption/tokenizer.pkl', 'rb') as f:\r\n",
        "        tok = pickle.load(f)"
      ],
      "execution_count": 7,
      "outputs": []
    },
    {
      "cell_type": "markdown",
      "metadata": {
        "id": "uPqAhomHj8zU"
      },
      "source": [
        "### Fit the Word2Vec model on the training descriptions"
      ]
    },
    {
      "cell_type": "code",
      "metadata": {
        "id": "EGhs9JtdV81B"
      },
      "source": [
        "desc_sentance_vec=create_list_sentance(desc)"
      ],
      "execution_count": 8,
      "outputs": []
    },
    {
      "cell_type": "code",
      "metadata": {
        "id": "7J0JDVRgVpOm"
      },
      "source": [
        "model = Word2Vec(sentences=desc_sentance_vec, size=300, window=3, min_count=1, workers=4, sg = 1)\r\n",
        "#model.save(\"word2vec_fit.model\")"
      ],
      "execution_count": 9,
      "outputs": []
    },
    {
      "cell_type": "code",
      "metadata": {
        "id": "l28y0Anmeth-"
      },
      "source": [
        "vocab_size = len(tok.word_index) + 1"
      ],
      "execution_count": 10,
      "outputs": []
    },
    {
      "cell_type": "code",
      "metadata": {
        "id": "ERhUHongfIfu"
      },
      "source": [
        "vocab = model.wv.vocab"
      ],
      "execution_count": 11,
      "outputs": []
    },
    {
      "cell_type": "markdown",
      "metadata": {
        "id": "x-gdkkhykKnZ"
      },
      "source": [
        "### Getr the weights neede for the keras embedding layer from word2vec model"
      ]
    },
    {
      "cell_type": "code",
      "metadata": {
        "id": "fO1Y9GeofCNv"
      },
      "source": [
        "def get_weight_matrix(token,vocab_size,model):\r\n",
        "    # define weight matrix dimensions with all 0\r\n",
        "    weight_matrix = np.zeros((vocab_size, model.vector_size))\r\n",
        "    j=0\r\n",
        "    for i in token.word_index.keys():\r\n",
        "        weight_matrix[j + 1] = model[i]\r\n",
        "        j+=1\r\n",
        "    return weight_matrix"
      ],
      "execution_count": 25,
      "outputs": []
    },
    {
      "cell_type": "code",
      "metadata": {
        "colab": {
          "base_uri": "https://localhost:8080/"
        },
        "id": "ygOQtMq3fGAX",
        "outputId": "30eed1f9-d417-4ff7-beac-5193f34a5ba4"
      },
      "source": [
        "embedding_vectors = get_weight_matrix(token=tok,vocab_size=vocab_size,model=model)"
      ],
      "execution_count": 26,
      "outputs": [
        {
          "output_type": "stream",
          "text": [
            "/usr/local/lib/python3.6/dist-packages/ipykernel_launcher.py:6: DeprecationWarning: Call to deprecated `__getitem__` (Method will be removed in 4.0.0, use self.wv.__getitem__() instead).\n",
            "  \n"
          ],
          "name": "stderr"
        }
      ]
    },
    {
      "cell_type": "code",
      "metadata": {
        "colab": {
          "base_uri": "https://localhost:8080/"
        },
        "id": "ltwuTxv_h8Ff",
        "outputId": "e02d7f38-e9bf-48b2-bfdc-930c23e32151"
      },
      "source": [
        "embedding_vectors"
      ],
      "execution_count": 27,
      "outputs": [
        {
          "output_type": "execute_result",
          "data": {
            "text/plain": [
              "array([[ 0.        ,  0.        ,  0.        , ...,  0.        ,\n",
              "         0.        ,  0.        ],\n",
              "       [-0.26446328, -0.31699085,  0.18785663, ..., -0.11390606,\n",
              "        -0.18727933, -0.1744093 ],\n",
              "       [ 0.19075635, -0.0148838 ,  0.07297978, ..., -0.06955649,\n",
              "         0.08922854,  0.06020009],\n",
              "       ...,\n",
              "       [-0.01049355, -0.03909328,  0.00903064, ..., -0.00685298,\n",
              "        -0.00395579,  0.00739594],\n",
              "       [ 0.00156223, -0.04765693, -0.01666857, ...,  0.01297245,\n",
              "        -0.00232254,  0.0019314 ],\n",
              "       [-0.00048223, -0.02369318, -0.00940616, ...,  0.00543844,\n",
              "        -0.00290202, -0.00652821]])"
            ]
          },
          "metadata": {
            "tags": []
          },
          "execution_count": 27
        }
      ]
    },
    {
      "cell_type": "markdown",
      "metadata": {
        "id": "cwya2bJ4kO4n"
      },
      "source": [
        "Save weights for later use"
      ]
    },
    {
      "cell_type": "code",
      "metadata": {
        "id": "0zyAdezIQIRn"
      },
      "source": [
        "pickle.dump(embedding_vectors, open('embedding_vectors.pkl', 'wb'))"
      ],
      "execution_count": 29,
      "outputs": []
    },
    {
      "cell_type": "code",
      "metadata": {
        "id": "XqqBYYcOjQId"
      },
      "source": [
        ""
      ],
      "execution_count": null,
      "outputs": []
    }
  ]
}